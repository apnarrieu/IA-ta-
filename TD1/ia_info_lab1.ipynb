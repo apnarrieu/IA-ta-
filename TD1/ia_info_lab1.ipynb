{
 "cells": [
  {
   "cell_type": "markdown",
   "metadata": {
    "colab_type": "text",
    "id": "MAMzv9tX31Qd"
   },
   "source": [
    "# Intelligence Artificielle - Deep Learning\n",
    "## Réseaux de neurones (I)"
   ]
  },
  {
   "cell_type": "markdown",
   "metadata": {
    "colab_type": "text",
    "id": "w-tt77yK36lF"
   },
   "source": [
    "# Prétraitement des données "
   ]
  },
  {
   "cell_type": "code",
   "execution_count": 0,
   "metadata": {
    "colab": {},
    "colab_type": "code",
    "collapsed": true,
    "id": "aG-vhn7F3p2j"
   },
   "outputs": [],
   "source": [
    "import numpy as np\n",
    "\n",
    "#In this first part, we just prepare our data (mnist) \n",
    "#for training and testing\n",
    "\n",
    "import keras\n",
    "from keras.datasets import mnist\n",
    "(X_train, y_train), (X_test, y_test) = mnist.load_data()\n",
    "num_pixels = X_train.shape[1] * X_train.shape[2]\n",
    "X_train = X_train.reshape(X_train.shape[0], num_pixels).T\n",
    "X_test = X_test.reshape(X_test.shape[0], num_pixels).T\n",
    "y_train = y_train.reshape(y_train.shape[0], 1)\n",
    "y_test = y_test.reshape(y_test.shape[0], 1)\n",
    "X_train = X_train.astype('float32')\n",
    "X_test = X_test.astype('float32')\n",
    "y_train = y_train.astype('float32')\n",
    "y_test = y_test.astype('float32')\n",
    "X_train  = X_train / 255\n",
    "X_test  = X_test / 255"
   ]
  },
  {
   "cell_type": "code",
   "execution_count": 0,
   "metadata": {
    "colab": {},
    "colab_type": "code",
    "collapsed": true,
    "id": "TEI4T6zR5RZ4"
   },
   "outputs": [],
   "source": [
    "#We want to have a binary classification: digit 5 is classified 1 and \n",
    "#all the other digits are classified 0\n",
    "\n",
    "y_new = np.zeros(y_train.shape)\n",
    "y_new[np.where(y_train==5.0)[0]] = 1\n",
    "y_train = y_new\n",
    "\n",
    "y_new = np.zeros(y_test.shape)\n",
    "y_new[np.where(y_test==5.0)[0]] = 1\n",
    "y_test = y_new\n",
    "\n",
    "\n",
    "y_train = y_train.T\n",
    "y_test = y_test.T\n",
    "\n",
    "\n",
    "m = X_train.shape[1] #number of examples\n",
    "\n",
    "#Now, we shuffle the training set\n",
    "np.random.seed(138)\n",
    "shuffle_index = np.random.permutation(m)\n",
    "X_train, y_train = X_train[:,shuffle_index], y_train[:,shuffle_index]"
   ]
  },
  {
   "cell_type": "code",
   "execution_count": 28,
   "metadata": {
    "colab": {
     "base_uri": "https://localhost:8080/",
     "height": 265
    },
    "colab_type": "code",
    "collapsed": false,
    "id": "V8d1bqZe5f5T",
    "outputId": "8bdd3141-890e-4549-da31-03828d7eaa1c"
   },
   "outputs": [
    {
     "name": "stdout",
     "output_type": "stream",
     "text": [
      "y[1]=[0.]\n"
     ]
    },
    {
     "data": {
      "image/png": "[encoded data removed]",
      "text/plain": [
       "<Figure size 432x288 with 1 Axes>"
      ]
     },
     "metadata": {
      "tags": []
     },
     "output_type": "display_data"
    }
   ],
   "source": [
    "#Display one image and corresponding label \n",
    "import matplotlib\n",
    "import matplotlib.pyplot as plt\n",
    "i = 1\n",
    "print('y[{}]={}'.format(i, y_train[:,i]))\n",
    "plt.imshow(X_train[:,i].reshape(28,28), cmap = matplotlib.cm.binary)\n",
    "plt.axis(\"off\")\n",
    "plt.show()"
   ]
  },
  {
   "cell_type": "code",
   "execution_count": 29,
   "metadata": {
    "colab": {
     "base_uri": "https://localhost:8080/",
     "height": 265
    },
    "colab_type": "code",
    "collapsed": false,
    "id": "b8lU8Je25pDx",
    "outputId": "5dd6eb2e-62aa-4717-ac9f-1cde76c4226b"
   },
   "outputs": [
    {
     "name": "stdout",
     "output_type": "stream",
     "text": [
      "y[6]=[1.]\n"
     ]
    },
    {
     "data": {
      "image/png": "[encoded data removed]",
      "text/plain": [
       "<Figure size 432x288 with 1 Axes>"
      ]
     },
     "metadata": {
      "tags": []
     },
     "output_type": "display_data"
    }
   ],
   "source": [
    "#Another image:\n",
    "i = 6\n",
    "print('y[{}]={}'.format(i, y_train[:,i]))\n",
    "plt.imshow(X_train[:,i].reshape(28,28), cmap = matplotlib.cm.binary)\n",
    "plt.axis(\"off\")\n",
    "plt.show()"
   ]
  },
  {
   "cell_type": "markdown",
   "metadata": {
    "colab_type": "text",
    "id": "C4MnSDEj56s1"
   },
   "source": [
    "# Exercice 1. Un réseau à un seul neurone "
   ]
  },
  {
   "cell_type": "markdown",
   "metadata": {
    "colab_type": "text",
    "id": "QPhng6BR6JPG"
   },
   "source": [
    "1. Compléter le fichier en définissant la fonction sigmoid.\n"
   ]
  },
  {
   "cell_type": "code",
   "execution_count": 30,
   "metadata": {
    "colab": {
     "base_uri": "https://localhost:8080/",
     "height": 265
    },
    "colab_type": "code",
    "collapsed": false,
    "id": "CmhStYkD6Nsr",
    "outputId": "db319792-dede-476c-8417-8e511c2b496d"
   },
   "outputs": [
    {
     "data": {
      "image/png": "[encoded data removed]",
      "text/plain": [
       "<Figure size 432x288 with 1 Axes>"
      ]
     },
     "metadata": {
      "tags": []
     },
     "output_type": "display_data"
    }
   ],
   "source": [
    "def sigmoid(z):\n",
    "    s = 1. / (1. + np.exp(-z))\n",
    "    return s\n",
    "\n",
    "#Visualize sigmoid\n",
    "x = np.arange(-12.0, 12.0, 1.0, dtype=np.float32)\n",
    "y = sigmoid(x)\n",
    "plt.plot(x, y)\n",
    "plt.show()"
   ]
  },
  {
   "cell_type": "markdown",
   "metadata": {
    "colab_type": "text",
    "id": "n7g5Qk7C6OPw"
   },
   "source": [
    "2. Donner les expressions mathématiques de la sortie y du neurone en fonction de x, W, b et \u001b.\n"
   ]
  },
  {
   "cell_type": "markdown",
   "metadata": {
    "colab_type": "text",
    "id": "ueH5N__e641l"
   },
   "source": [
    "$$\n",
    "\\hat y = \\sigma(z) = \\sigma\\left(\\sum_{i=1}^{784}w_i*x_i +b\\right)\n",
    "$$"
   ]
  },
  {
   "cell_type": "markdown",
   "metadata": {
    "colab_type": "text",
    "id": "2_mdCh_c6Rkm"
   },
   "source": [
    "3. Donner l’expression mathématique de le fonction de perte L . Utiliser pour cela la cross entropy. Ecrivez la définition Python de cette fonction.\n"
   ]
  },
  {
   "cell_type": "markdown",
   "metadata": {
    "colab_type": "text",
    "id": "M4AUTc417s8q"
   },
   "source": [
    "$$\n",
    "L(y,\\hat y) = -\\left( y\\ln(\\hat y) + (1-y)\\ln(1-\\hat y)\\right)\n",
    "$$"
   ]
  },
  {
   "cell_type": "code",
   "execution_count": 0,
   "metadata": {
    "colab": {},
    "colab_type": "code",
    "collapsed": true,
    "id": "OoAEJI-q6XqI"
   },
   "outputs": [],
   "source": [
    "def compute_loss(Y, Y_hat):\n",
    "    m = Y.shape[1]\n",
    "    L = -(1./m) * (np.sum(np.multiply(np.log(Y_hat),Y)) + np.sum( np.multiply(np.log(1-Y_hat),(1-Y))))\n",
    "    return L"
   ]
  },
  {
   "cell_type": "markdown",
   "metadata": {
    "colab_type": "text",
    "id": "sgG0Z4hw6Yk5"
   },
   "source": [
    "Pour réaliser la rétro-propagation, nous aurons besoin de connaitre les changement de la fonction de perte en fonction des changements de chaque paramètre w de W et du biais b.\n"
   ]
  },
  {
   "cell_type": "markdown",
   "metadata": {
    "colab_type": "text",
    "id": "SWLZxlq76dcw"
   },
   "source": [
    "1. Ecrire l’expression de la dérivée de L en par rapport à chaque paramètre w.\n"
   ]
  },
  {
   "cell_type": "markdown",
   "metadata": {
    "colab_type": "text",
    "id": "9Mh1d_rx9jBI"
   },
   "source": [
    "Chain rule:\n",
    "\n",
    "\\begin{eqnarray}\n",
    "\\frac{\\partial L}{\\partial w} = \\frac{\\partial L}{\\partial \\hat y} \\times \\frac{\\partial \\hat y}{\\partial z} \\times \\frac{\\partial z}{\\partial w}\n",
    "\\end{eqnarray}\n",
    "\n",
    "Or :\n",
    "\\begin{eqnarray}\n",
    "\\frac{\\partial L}{\\partial \\hat y} & = & -\\frac y {\\hat y} + \\frac{1-y}{1-\\hat y} = \\frac{\\hat y -y}{\\hat y (1-\\hat y)}\n",
    "\\end{eqnarray}\n",
    "\n",
    "\\begin{eqnarray}\n",
    "\\frac{\\partial \\hat y}{\\partial z} & = & \\frac{\\partial \\sigma}{\\partial z} = \\sigma(z) (1-\\sigma(z)) = \\hat y (1-\\hat y)\n",
    "\\end{eqnarray}\n",
    "\n",
    "\\begin{eqnarray}\n",
    "\\frac{\\partial z}{\\partial w} & = & \\frac{\\partial z}{\\partial w}\\left(\\sum wx + b\\right) = x\n",
    "\\end{eqnarray}\n",
    "\n",
    "Mettons tout ensemble :\n",
    "\n",
    "\\begin{eqnarray}\n",
    "\\frac{\\partial L}{\\partial w_k} = (\\hat y - y)x_k \\text{ et } \\frac{\\partial L}{\\partial b} = (\\hat y - y).\n",
    "\\end{eqnarray}\n",
    "\n"
   ]
  },
  {
   "cell_type": "markdown",
   "metadata": {
    "colab_type": "text",
    "id": "3TRa7YS26hSO"
   },
   "source": [
    "2. Compléter le fichier pour implémenter tous les éléments nécessaires à l’entrainement de votre\n",
    "modèle.\n"
   ]
  },
  {
   "cell_type": "code",
   "execution_count": 0,
   "metadata": {
    "colab": {},
    "colab_type": "code",
    "collapsed": true,
    "id": "MZy3exxz6jtR"
   },
   "outputs": [],
   "source": []
  },
  {
   "cell_type": "markdown",
   "metadata": {
    "colab_type": "text",
    "id": "-QSNLJLs6lYV"
   },
   "source": [
    "3. Entrainer et tester le modéle."
   ]
  },
  {
   "cell_type": "code",
   "execution_count": 32,
   "metadata": {
    "colab": {
     "base_uri": "https://localhost:8080/",
     "height": 136
    },
    "colab_type": "code",
    "collapsed": false,
    "id": "m9gMoeue6mZH",
    "outputId": "83d415aa-f187-4065-9201-494295017996"
   },
   "outputs": [
    {
     "name": "stdout",
     "output_type": "stream",
     "text": [
      "Y.shape=(1, 60000)\n",
      "Epoch 0 cost:  0.6817831288870175\n",
      "Epoch 20 cost:  0.15693060630580027\n",
      "Epoch 40 cost:  0.1269609305022656\n",
      "Epoch 60 cost:  0.11949298198327493\n",
      "Epoch 80 cost:  0.11494037451099734\n",
      "Final cost: 0.11191596629329834\n"
     ]
    }
   ],
   "source": [
    "#We define the backward propagation, build and train our network:\n",
    "learning_rate = 1.\n",
    "X = X_train\n",
    "Y = y_train\n",
    "print('Y.shape={}'.format(Y.shape))\n",
    "n_x = X.shape[0]\n",
    "m = X.shape[1]\n",
    "W = np.random.randn(1, n_x) * 0.01\n",
    "b = np.zeros((1, 1))\n",
    "\n",
    "for i in range(100):\n",
    "    Z = np.matmul(W, X) + b\n",
    "    Y_hat = sigmoid(Z)\n",
    "    cost = compute_loss(Y, Y_hat)\n",
    "\n",
    "    #print('Y_hat-Y.shape={}'.format((Y_hat-Y).shape))\n",
    "    #print('X.T.shape={}'.format((X.T).shape))\n",
    "\n",
    "    dW = (1./m) * np.matmul((Y_hat-Y), X.T)\n",
    "    db = (1./m) * np.sum(Y_hat-Y, axis=1, keepdims=True)\n",
    "\n",
    "    W = W - learning_rate * dW\n",
    "    b = b - learning_rate * db\n",
    "\n",
    "    if (i % 20 == 0):\n",
    "        print(\"Epoch\", i, \"cost: \", cost)\n",
    "\n",
    "print(\"Final cost:\", cost)\n",
    " "
   ]
  },
  {
   "cell_type": "markdown",
   "metadata": {
    "colab_type": "text",
    "id": "oS4IfclS6V36"
   },
   "source": []
  }
 ],
 "metadata": {
  "colab": {
   "collapsed_sections": [],
   "name": "ia-info-lab1.ipynb",
   "provenance": []
  },
  "kernelspec": {
   "display_name": "Python 3",
   "language": "python",
   "name": "python3"
  },
  "language_info": {
   "codemirror_mode": {
    "name": "ipython",
    "version": 3
   },
   "file_extension": ".py",
   "mimetype": "text/x-python",
   "name": "python",
   "nbconvert_exporter": "python",
   "pygments_lexer": "ipython3",
   "version": "3.5.3"
  }
 },
 "nbformat": 4,
 "nbformat_minor": 0
}
